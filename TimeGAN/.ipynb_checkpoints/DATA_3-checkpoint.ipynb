{
 "cells": [
  {
   "cell_type": "markdown",
   "id": "bfa17857",
   "metadata": {},
   "source": [
    "Se importa aparte << mat73 >>, de lo contrario falla"
   ]
  },
  {
   "cell_type": "code",
   "execution_count": 1,
   "id": "93a99fba",
   "metadata": {},
   "outputs": [],
   "source": [
    "import mat73"
   ]
  },
  {
   "cell_type": "markdown",
   "id": "4798f7d3",
   "metadata": {},
   "source": [
    "Se importan el resto de las librerías"
   ]
  },
  {
   "cell_type": "code",
   "execution_count": 2,
   "id": "e0554b5f",
   "metadata": {},
   "outputs": [],
   "source": [
    "import numpy as np\n",
    "import json\n",
    "import pandas as pd\n",
    "import random"
   ]
  },
  {
   "cell_type": "code",
   "execution_count": 3,
   "id": "1da21677",
   "metadata": {},
   "outputs": [],
   "source": [
    "def finder(dataFrame,pattern):\n",
    "    for t in range(len(dataFrame)):\n",
    "        if float(pattern)==float(dataFrame[:][t][0]):\n",
    "            return(dataFrame[t])"
   ]
  },
  {
   "cell_type": "markdown",
   "id": "231b236d",
   "metadata": {},
   "source": [
    "Se llama al archivo con los datos"
   ]
  },
  {
   "cell_type": "code",
   "execution_count": 4,
   "id": "5b0bf02f",
   "metadata": {},
   "outputs": [],
   "source": [
    "mat = mat73.loadmat('DATOSTJII_New7.mat')"
   ]
  },
  {
   "cell_type": "markdown",
   "id": "e5f7304f",
   "metadata": {},
   "source": [
    "Inputs"
   ]
  },
  {
   "cell_type": "code",
   "execution_count": 5,
   "id": "54aaf569",
   "metadata": {},
   "outputs": [],
   "source": [
    "w_length = 24"
   ]
  },
  {
   "cell_type": "markdown",
   "id": "3a703d16",
   "metadata": {},
   "source": [
    "Columnas en los datos"
   ]
  },
  {
   "cell_type": "code",
   "execution_count": 6,
   "id": "8aebaaca",
   "metadata": {},
   "outputs": [
    {
     "name": "stdout",
     "output_type": "stream",
     "text": [
      "array_shots\n",
      "data\n",
      "originalData\n",
      "signals\n"
     ]
    }
   ],
   "source": [
    "for key, value in mat.items():\n",
    "    print(key)"
   ]
  },
  {
   "cell_type": "markdown",
   "id": "d9850e76",
   "metadata": {},
   "source": [
    "Señales, siendo las principales 'BOL5' y 'Densidad2_'"
   ]
  },
  {
   "cell_type": "code",
   "execution_count": 7,
   "id": "18ce477f",
   "metadata": {},
   "outputs": [
    {
     "name": "stdout",
     "output_type": "stream",
     "text": [
      "['ACTON275', 'BOL5', 'Densidad2_', 'ECE7', 'GR', 'GR2', 'HALFAC3', 'IACCEL1', 'RX306']\n"
     ]
    }
   ],
   "source": [
    "print(mat['signals'])"
   ]
  },
  {
   "cell_type": "code",
   "execution_count": 8,
   "id": "c92a889f",
   "metadata": {},
   "outputs": [
    {
     "name": "stdout",
     "output_type": "stream",
     "text": [
      "Número de experimentos: 430\n"
     ]
    }
   ],
   "source": [
    "print('Número de experimentos:',len(mat['array_shots']))"
   ]
  },
  {
   "cell_type": "markdown",
   "id": "f93f3cec",
   "metadata": {},
   "source": [
    "Sección para encontrar los tiempos mínimos y máximos para trabajar en los intervalos justos. "
   ]
  },
  {
   "cell_type": "code",
   "execution_count": 9,
   "id": "e2c8cb23",
   "metadata": {},
   "outputs": [],
   "source": [
    "times_per_experiments = {}\n",
    "descargas_out = []"
   ]
  },
  {
   "cell_type": "code",
   "execution_count": 10,
   "id": "8daf74a1",
   "metadata": {},
   "outputs": [],
   "source": [
    "for descarga in np.arange(len(mat['array_shots'])):\n",
    "    min_times = []\n",
    "    max_times = []\n",
    "    try:\n",
    "        for signal in np.arange(1,10):\n",
    "            times = mat['originalData'][descarga][signal][:,0]\n",
    "            values = mat['originalData'][descarga][signal][:,1]\n",
    "            min_times.append(np.trunc(100 * np.min(times)) / 100)\n",
    "            max_times.append(np.trunc(100 * np.max(times)) / 100)\n",
    "        min_time = np.max(np.array(min_times))\n",
    "        max_time = np.min(np.array(max_times))\n",
    "        times_per_experiments[str(mat['originalData'][descarga][0])]=[min_time,max_time]\n",
    "    except:\n",
    "        descargas_out.append(str(mat['originalData'][descarga][0]))"
   ]
  },
  {
   "cell_type": "markdown",
   "id": "20afaede",
   "metadata": {},
   "source": [
    "Descargas con señales en nulos:"
   ]
  },
  {
   "cell_type": "code",
   "execution_count": 11,
   "id": "1df2acf9",
   "metadata": {},
   "outputs": [
    {
     "name": "stdout",
     "output_type": "stream",
     "text": [
      "N° de descargas con alguna señal completa en nulo: 44\n",
      "N° de descargas: 386\n"
     ]
    }
   ],
   "source": [
    "print('N° de descargas con alguna señal completa en nulo:',len(descargas_out))\n",
    "print('N° de descargas:',len(times_per_experiments))"
   ]
  },
  {
   "cell_type": "code",
   "execution_count": 12,
   "id": "55154b93",
   "metadata": {},
   "outputs": [],
   "source": [
    "with open(\"times.json\", \"w\") as outfile:\n",
    "    json.dump(times_per_experiments, outfile)"
   ]
  },
  {
   "cell_type": "code",
   "execution_count": 13,
   "id": "6a95c9f9",
   "metadata": {},
   "outputs": [],
   "source": [
    "keys = list(times_per_experiments.keys())\n",
    "random.shuffle(keys)\n",
    "\n",
    "shuffled_times = dict()\n",
    "for key in keys:\n",
    "    shuffled_times.update({key: times_per_experiments[key]})"
   ]
  },
  {
   "cell_type": "code",
   "execution_count": 14,
   "id": "03da530a",
   "metadata": {},
   "outputs": [],
   "source": [
    "mins = []\n",
    "for descarga in shuffled_times:\n",
    "    windows = []\n",
    "    for c,data in enumerate(finder(mat['originalData'],descarga)):\n",
    "        if c!=0:\n",
    "            data[:,0] = np.trunc(100 * data[:,0]) / 100\n",
    "            df = pd.DataFrame(data, columns = ['time',mat['signals'][c-1]])\n",
    "            df = df.loc[(df['time']>=float(shuffled_times[str(descarga)][0])) & (df['time']<=float(shuffled_times[str(descarga)][1]))]\n",
    "            #while True:\n",
    "            #    if len(df)%float(w_length) == 0: \n",
    "            #        break\n",
    "            #    else: \n",
    "            #        df = df.iloc[:len(df)-1]\n",
    "                    \n",
    "            windows.append(len(df))\n",
    "    mins.append(np.argmin(windows))"
   ]
  },
  {
   "cell_type": "code",
   "execution_count": 15,
   "id": "422acdf9",
   "metadata": {},
   "outputs": [
    {
     "name": "stdout",
     "output_type": "stream",
     "text": [
      "[8, 8, 8, 8, 8, 8, 8, 8, 8, 8, 8, 8, 8, 2, 8, 8, 8, 8, 8, 2, 2, 8, 8, 8, 8, 2, 8, 8, 8, 8, 2, 8, 8, 8, 8, 8, 8, 8, 2, 8, 8, 8, 8, 8, 8, 2, 8, 8, 2, 8, 8, 8, 8, 8, 8, 8, 8, 8, 2, 8, 8, 8, 8, 8, 8, 8, 8, 8, 8, 8, 8, 8, 8, 8, 8, 8, 8, 2, 2, 8, 8, 8, 2, 8, 2, 8, 2, 8, 8, 8, 8, 8, 2, 8, 8, 8, 2, 2, 8, 8, 8, 2, 2, 2, 2, 2, 2, 8, 8, 8, 2, 8, 8, 2, 2, 8, 2, 8, 8, 8, 8, 2, 8, 8, 8, 8, 8, 8, 8, 8, 2, 2, 8, 8, 2, 2, 8, 2, 2, 2, 8, 2, 8, 8, 8, 8, 8, 8, 8, 8, 2, 2, 8, 8, 8, 2, 8, 2, 8, 8, 8, 8, 8, 8, 8, 2, 8, 8, 2, 8, 8, 8, 8, 8, 8, 8, 8, 8, 8, 8, 8, 8, 8, 8, 8, 8, 8, 8, 8, 2, 8, 8, 8, 8, 2, 2, 8, 2, 8, 2, 2, 2, 8, 2, 8, 8, 8, 8, 8, 2, 8, 2, 8, 2, 8, 2, 2, 8, 8, 2, 8, 8, 8, 8, 8, 8, 2, 8, 8, 2, 8, 8, 8, 8, 2, 8, 8, 8, 8, 8, 2, 8, 8, 8, 8, 8, 8, 8, 8, 8, 8, 8, 2, 2, 2, 8, 8, 8, 8, 2, 2, 8, 2, 8, 8, 2, 2, 8, 8, 8, 8, 8, 8, 8, 8, 2, 8, 8, 8, 2, 8, 2, 8, 2, 8, 8, 2, 2, 8, 8, 8, 8, 8, 8, 8, 8, 2, 8, 8, 2, 8, 2, 8, 2, 2, 8, 2, 2, 8, 2, 8, 8, 2, 2, 8, 8, 8, 2, 8, 8, 8, 8, 8, 2, 8, 8, 8, 8, 8, 8, 8, 8, 2, 8, 2, 8, 8, 8, 8, 8, 8, 2, 2, 2, 8, 2, 8, 8, 2, 2, 8, 8, 8, 8, 8, 8, 2, 2, 8, 8, 8, 8, 8, 8, 8, 8, 8, 8, 8, 2, 2, 8, 8, 2, 2, 8, 8, 8, 8, 8, 8, 8, 8, 2, 8, 8]\n"
     ]
    }
   ],
   "source": [
    "print(mins)"
   ]
  },
  {
   "cell_type": "code",
   "execution_count": null,
   "id": "53069043",
   "metadata": {},
   "outputs": [
    {
     "name": "stdout",
     "output_type": "stream",
     "text": [
      "0\n"
     ]
    }
   ],
   "source": [
    "for d,(descarga,m) in enumerate(zip(shuffled_times,mins)):\n",
    "    ref_time = finder(mat['originalData'],descarga)[m+1][:,0]\n",
    "    ref_time = np.trunc(100 * ref_time) / 100\n",
    "    print(d)\n",
    "    if d<int(len(shuffled_times)*0.8):\n",
    "        for c,data in enumerate(finder(mat['originalData'],descarga)):\n",
    "            if c!=0:\n",
    "                activate = True\n",
    "                data[:,0] = np.trunc(100 * data[:,0]) / 100\n",
    "                df = pd.DataFrame(data, columns = ['time',mat['signals'][c-1]])\n",
    "                df = df.loc[(df['time']>=float(shuffled_times[str(descarga)][0])) & (df['time']<=float(shuffled_times[str(descarga)][1]))]\n",
    "                for tm in ref_time:\n",
    "                    try:\n",
    "                        df_f = df.loc[df['time']==float(tm)].iloc[:1]\n",
    "                        if len(df_f)!=0 and activate:\n",
    "                            activate = False\n",
    "                            df_2f = df_f\n",
    "                        elif len(df_f)!=0:\n",
    "                            df_2f = pd.concat([df_2f, df_f], axis=0)\n",
    "                    except:\n",
    "                        continue\n",
    "                df_2f.columns = ['time', mat['signals'][c-1]]\n",
    "                if c == 1:\n",
    "                    df2 = df_2f.sort_index()\n",
    "                    df2 = df2.reset_index(drop=True)\n",
    "                else:\n",
    "                    df1 = df_2f.sort_index()\n",
    "                    df1 = df1.reset_index(drop=True)\n",
    "                    df1 = df1[mat['signals'][c-1]]\n",
    "                    df2 = pd.concat([df2, df1], axis=1)\n",
    "        if d == 0:\n",
    "            df_train = df2\n",
    "        else:\n",
    "            df_train = pd.concat([df_train,df2],axis=0)\n",
    "    else:\n",
    "        for c,data in enumerate(finder(mat['originalData'],descarga)):\n",
    "            if c!=0:\n",
    "                activate = True\n",
    "                data[:,0] = np.trunc(100 * data[:,0]) / 100\n",
    "                df = pd.DataFrame(data, columns = ['time',mat['signals'][c-1]])\n",
    "                df = df.loc[(df['time']>=float(shuffled_times[str(descarga)][0])) & (df['time']<=float(shuffled_times[str(descarga)][1]))]\n",
    "                for tm in ref_time:\n",
    "                    try:\n",
    "                        df_f = df.loc[df['time']==float(tm)].iloc[:1]\n",
    "                        if len(df_f)!=0 and activate:\n",
    "                            activate = False\n",
    "                            df_2f = df_f\n",
    "                        elif len(df_f)!=0:\n",
    "                            df_2f = pd.concat([df_2f, df_f], axis=0)\n",
    "                    except:\n",
    "                        continue\n",
    "                df_2f.columns = ['time', mat['signals'][c-1]]\n",
    "                if c == 1:\n",
    "                    df2 = df_2f.sort_index()\n",
    "                    df2 = df2.reset_index(drop=True)\n",
    "                else:\n",
    "                    df1 = df_2f.sort_index()\n",
    "                    df1 = df1.reset_index(drop=True)\n",
    "                    df1 = df1[mat['signals'][c-1]]\n",
    "                    df2 = pd.concat([df2, df1], axis=1)\n",
    "        if d == int(len(shuffled_times)*0.8):\n",
    "            df_test = df2\n",
    "        else:\n",
    "            df_test = pd.concat([df_test,df2],axis=0)\n",
    "    "
   ]
  },
  {
   "cell_type": "code",
   "execution_count": null,
   "id": "90f25944",
   "metadata": {},
   "outputs": [],
   "source": [
    "df_train_no_na = df_train.dropna()\n",
    "df_test_no_na = df_test.dropna()"
   ]
  },
  {
   "cell_type": "code",
   "execution_count": null,
   "id": "33e6916e",
   "metadata": {},
   "outputs": [],
   "source": [
    "print('Train dataset:', len(df_train))\n",
    "print('Trest dataset:', len(df_test))\n",
    "print('Train dataset (no na):', len(df_train_no_na))\n",
    "print('Trest dataset (no na):', len(df_test_no_na))"
   ]
  },
  {
   "cell_type": "code",
   "execution_count": null,
   "id": "879d8f33",
   "metadata": {},
   "outputs": [],
   "source": [
    "df_train.to_csv('data_train_'+str(w_length)+'.csv',index=False)\n",
    "df_test.to_csv('data_test_'+str(w_length)+'.csv',index=False)"
   ]
  },
  {
   "cell_type": "code",
   "execution_count": null,
   "id": "2a4e90e5",
   "metadata": {},
   "outputs": [],
   "source": [
    "print(df_train.dtypes)\n",
    "df_train.head()"
   ]
  },
  {
   "cell_type": "code",
   "execution_count": null,
   "id": "16cceb08",
   "metadata": {},
   "outputs": [],
   "source": []
  }
 ],
 "metadata": {
  "kernelspec": {
   "display_name": "Python 3 (ipykernel)",
   "language": "python",
   "name": "python3"
  },
  "language_info": {
   "codemirror_mode": {
    "name": "ipython",
    "version": 3
   },
   "file_extension": ".py",
   "mimetype": "text/x-python",
   "name": "python",
   "nbconvert_exporter": "python",
   "pygments_lexer": "ipython3",
   "version": "3.8.15"
  }
 },
 "nbformat": 4,
 "nbformat_minor": 5
}
